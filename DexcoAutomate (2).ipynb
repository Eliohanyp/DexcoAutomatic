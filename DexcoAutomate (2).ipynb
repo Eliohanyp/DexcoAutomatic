{
  "nbformat": 4,
  "nbformat_minor": 0,
  "metadata": {
    "colab": {
      "name": "DexcoAutomate.ipynb",
      "provenance": [],
      "collapsed_sections": []
    },
    "kernelspec": {
      "name": "python3",
      "display_name": "Python 3"
    },
    "language_info": {
      "name": "python"
    },
    "accelerator": "GPU"
  },
  "cells": [
    {
      "cell_type": "markdown",
      "metadata": {
        "id": "a3pJ_Gpl04Of"
      },
      "source": [
        "<hr></hr>\n",
        "<H1  align= \"center\"><b>🌳 DEXCO 🌳</b></H1>\n",
        " <H2 align= \"center\"><b>Contagem Automatica de Mudas</H2></b> \n",
        " <br>\n",
        " <hr></hr>\n",
        " <br>\n",
        "<figure align = \"center\">\n",
        "<img src=\"https://raw.githubusercontent.com/Eliohanyp/DexcoAutomatic/main/LogoDexco.jpg\" style=\"width:100%\">\n",
        "<figcaption align = \"center\"><i><p  align=\"center\">Fig. 1 - Logo e Marcas DEXCO</p> </i> </figcaption>\n",
        "</figure>\n",
        "\n",
        "<br> <hr></hr><br>\n",
        "\n",
        "<H2 align= \"center\">💻 Modelo de Detecção de Mudas usando YOLOv5 para a empresa Dexco 💻</H2>\n",
        "\n",
        "<h2 align= \"center\">🔧  Abaixo veremos um passo a passo para percorrer as etapas necessárias para treinar o modelo do YOLOv5 para as contagens das mudas. 🔧  <br> Usamos um DATASET privado de uso exclusivo pela Dexco.</h2>\n",
        "\n",
        "<h1 align=\"center\"><font color=\"#ff5906\"\n",
        "><b>Para Treinar o Contador Siga o Passo a Passo Abaixo: </b></h1></font>\n",
        "\n",
        "<H3 align= \"center\">🔸 1.Instale dependências YOLOv5. 🔸</H3>\n",
        "<H3 align= \"center\">🔸 2.Escreva a configuração de treinamento personalizada. 🔸</H3>\n",
        "<H3 align= \"center\">🔸 3.Execute o treinamento. 🔸</H3>\n",
        "<H3 align= \"center\">🔸 4.Avalie o desempenho. 🔸</H3>\n",
        "<H3 align= \"center\">🔸 5.Visualize os dados de treinamento. 🔸</H3>\n",
        "<H3 align= \"center\">🔸 6.Execute a inferência treinada em imagens de teste. 🔸</H3>\n",
        "<H3 align= \"center\">🔸 7.Exportar os pesos salvos para inferência futura.🔸</H3>\n",
        "<br>\n",
        "\n",
        "<table align=\"CENTER\"><td>\n",
        "  <a align=\"CENTER\" target=\"_blank\"  href=\"https://colab.research.google.com/drive/1v-sb-h7cpmx6YFMAPK-S50qzfILwpmq1#scrollTo=QTsB2ozbjYUi\">\n",
        "    <img src=\"https://www.tensorflow.org/images/colab_logo_32px.png\" /> Rodar Codigo Via Google Colab\n",
        "  </a>\n",
        "</td><td>\n",
        "  <a align=\"CENTER\" target=\"_blank\"  href=\"https://github.com/Eliohanyp/DexcoAutomatic\">\n",
        "    <img width=32px src=\"https://www.tensorflow.org/images/GitHub-Mark-32px.png\" /> Visualizar projeto no GitHub</a>\n",
        "</td></table><br>\n",
        " <hr></hr>"
      ]
    },
    {
      "cell_type": "code",
      "metadata": {
        "id": "S5ca8yKZheha"
      },
      "source": [
        "!python -m pip install --upgrade pip\n",
        "!pip install wandb\n",
        "!git clone https://github.com/Eliohanyp/DexcoAutomatic.git\n",
        "%cd DexcoAutomatic\n",
        "%pip install -qr requirements.txt \n",
        "\n",
        "import torch\n",
        "import os\n",
        "from IPython.display import Image, clear_output\n",
        "\n",
        "print(f\"Setup complete. Using torch {torch.__version__} ({torch.cuda.get_device_properties(0).name if torch.cuda.is_available() else 'GPU'})\")"
      ],
      "execution_count": null,
      "outputs": []
    },
    {
      "cell_type": "code",
      "metadata": {
        "id": "QV45bTFChkn7"
      },
      "source": [
        "!python /content/DexcoAutomatic/train.py --img 1280 --batch 64 --epochs 3000 --data /content/DexcoAutomatic/data.yaml --weights yolov5s6.pt"
      ],
      "execution_count": null,
      "outputs": []
    },
    {
      "cell_type": "code",
      "metadata": {
        "id": "X-Ih7hjocfuA"
      },
      "source": [
        "%load_ext tensorboard\n",
        "%tensorboard --logdir runs"
      ],
      "execution_count": null,
      "outputs": []
    },
    {
      "cell_type": "code",
      "metadata": {
        "id": "32R7PeHUcWO5"
      },
      "source": [
        "!python detect.py --weights /content/DexcoAutomatic/best.pt --agnostic --imgsz 1280 --conf 0.00001 --iou-thres 0.06 --source /content/DexcoAutomatic/test/images --classes 0 1"
      ],
      "execution_count": null,
      "outputs": []
    }
  ]
}